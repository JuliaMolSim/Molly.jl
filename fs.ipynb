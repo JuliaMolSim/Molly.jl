{
 "cells": [
  {
   "cell_type": "markdown",
   "metadata": {},
   "source": [
    "# The Finnis-Sinclair potential"
   ]
  },
  {
   "cell_type": "markdown",
   "metadata": {},
   "source": [
    "Structure:\n",
    "1. Computing Finnis-Sinclair forces\n",
    "2. Computing Finnis-Sinclair potential energies"
   ]
  },
  {
   "cell_type": "markdown",
   "metadata": {},
   "source": [
    "TODOs:\n",
    "* test forces for crystals with a vacancy\n",
    "* test energies for crystals with a vacancy\n",
    "* copy tests to the appropriate location in the package\n",
    "* if moving this nb to docs or so, does `using Molly` from non-root dirs still work?\n",
    "* other force implementation that does not require altering `function accelerations`?"
   ]
  },
  {
   "cell_type": "code",
   "execution_count": null,
   "metadata": {},
   "outputs": [],
   "source": [
    "import Pkg"
   ]
  },
  {
   "cell_type": "code",
   "execution_count": null,
   "metadata": {
    "scrolled": true
   },
   "outputs": [],
   "source": [
    "Pkg.activate(\".\")"
   ]
  },
  {
   "cell_type": "code",
   "execution_count": null,
   "metadata": {},
   "outputs": [],
   "source": [
    "# Pkg.add(url=\"https://github.com/eschmidt42/crystal\")"
   ]
  },
  {
   "cell_type": "code",
   "execution_count": null,
   "metadata": {},
   "outputs": [],
   "source": [
    "# Pkg.add(\"Plots\")"
   ]
  },
  {
   "cell_type": "code",
   "execution_count": null,
   "metadata": {},
   "outputs": [],
   "source": [
    "Pkg.status()"
   ]
  },
  {
   "cell_type": "code",
   "execution_count": null,
   "metadata": {},
   "outputs": [],
   "source": [
    "using Molly"
   ]
  },
  {
   "cell_type": "code",
   "execution_count": null,
   "metadata": {
    "scrolled": true
   },
   "outputs": [],
   "source": [
    "using DataFrames\n",
    "# using Molly\n",
    "using Plots\n",
    "using Test\n",
    "# using LaTeXStrings\n",
    "# using LinearAlgebra\n",
    "# using SparseArrays\n",
    "using Crystal"
   ]
  },
  {
   "cell_type": "markdown",
   "metadata": {},
   "source": [
    "## Parameterisation of V, Nb, Ta, Cr, Mo, W, Fe"
   ]
  },
  {
   "cell_type": "markdown",
   "metadata": {},
   "source": [
    "Parameterisation by Finnis et al. 1984, _A simple empirical N-body potential for transition metals_"
   ]
  },
  {
   "cell_type": "markdown",
   "metadata": {},
   "source": [
    "| element | d | A | $\\beta$ | c | $c_0$ | $c_1$ | $c_2$ | \n",
    "| --- | --- | --- | --- | --- | --- | --- | --- |\n",
    "| V  | 3.692767 | 2.010637 | 0   | 3.8  | -0.8816318 | 1.4907756   | -0.3976370 |\n",
    "| Nb | 3.915354 | 3.013789 | 0   | 4.2  | -1.5640104 | 2.0055779   | -0.4663764 |\n",
    "| Ta | 4.076980 | 2.591061 | 0   | 4.2  | 1.2157373  | 0.0271471   | -0.1217350 |\n",
    "| Cr | 3.915720 | 1.453418 | 1.8 | 2.9  | 29.1429813 | -23.3975027 | 4.7578297 |\n",
    "| Mo | 4.114825 | 1.887117 | 0   | 3.25 | 43.4475218 | -31.9332978 | 6.0804249 |\n",
    "| W  | 4.400224 | 1.896373 | 0   | 3.25 | 47.1346499 | -33.7665655 | 6.2541999 |\n",
    "| Fe | 3.699579 | 1.889846 | 1.8 | 3.4  | 1.2110601  | -0.7510840  | 0.1380773 |"
   ]
  },
  {
   "cell_type": "code",
   "execution_count": null,
   "metadata": {},
   "outputs": [],
   "source": [
    "elements = [\"V\", \"Nb\", \"Ta\", \"Cr\", \"Mo\", \"W\", \"Fe\"]\n",
    "element_pairings = [string(el,el) for el in elements]\n",
    "element_pair_map = Dict(pair => i for (i,pair) in enumerate(element_pairings))"
   ]
  },
  {
   "cell_type": "code",
   "execution_count": null,
   "metadata": {},
   "outputs": [],
   "source": [
    "df = DataFrame(\n",
    "    element_pair = element_pairings,\n",
    "    d = [3.692767, 3.915354, 4.076980, 3.915720, 4.114825, 4.400224, 3.699579],\n",
    "    A = [2.010637, 3.013789, 2.591061, 1.453418, 1.887117, 1.896373, 1.889846],\n",
    "    β = [0, 0, 0, 1.8, 0, 0, 1.8],\n",
    "    c = [3.8, 4.2, 4.2, 2.9, 3.25, 3.25, 3.4],\n",
    "    c₀ = [-0.8816318, -1.5640104, 1.2157373, 29.1429813, 43.4475218, 47.1346499, 1.2110601],\n",
    "    c₁ = [1.4907756, 2.0055779, 0.0271471, -23.3975027, -31.9332978, -33.7665655, -0.7510840],\n",
    "    c₂ = [-0.3976370, -0.4663764, -0.1217350, 4.7578297, 6.0804249, 6.2541999, 0.1380773],\n",
    ")"
   ]
  },
  {
   "cell_type": "code",
   "execution_count": null,
   "metadata": {},
   "outputs": [],
   "source": [
    "masses = Dict(\"V\" => 50.9415, \"Nb\" => 92.9064, \"Ta\" => 180.9479,\n",
    "              \"Cr\" => 51.996, \"Mo\" => 95.94, \"W\" => 183.85,\n",
    "              \"Fe\" => 55.847)"
   ]
  },
  {
   "cell_type": "code",
   "execution_count": null,
   "metadata": {},
   "outputs": [],
   "source": [
    "# Å\n",
    "bcc_lattice_constants = Dict(\n",
    "    \"V\" => 3.0399, \"Nb\" => 3.3008, \n",
    "    \"Ta\" => 3.3058, \"Cr\" => 2.8845, \"Mo\" => 3.1472, \n",
    "    \"W\" => 3.1652, \"Fe\" => 2.8665\n",
    ")"
   ]
  },
  {
   "cell_type": "code",
   "execution_count": null,
   "metadata": {},
   "outputs": [],
   "source": [
    "reference_energies = DataFrame(\n",
    "    element_pair = element_pairings,\n",
    "    u = [5.31, 7.57, 8.1, 4.1, 6.82, 8.9, 4.28],\n",
    ")"
   ]
  },
  {
   "cell_type": "markdown",
   "metadata": {},
   "source": [
    "## Interaction"
   ]
  },
  {
   "cell_type": "markdown",
   "metadata": {},
   "source": [
    "Instantiating the interaction"
   ]
  },
  {
   "cell_type": "code",
   "execution_count": null,
   "metadata": {},
   "outputs": [],
   "source": [
    "fs_inter = FinnisSinclair(true, element_pair_map, df)"
   ]
  },
  {
   "cell_type": "markdown",
   "metadata": {},
   "source": [
    "## Glue potential"
   ]
  },
  {
   "cell_type": "markdown",
   "metadata": {},
   "source": [
    "The glue potential is the core component which makes the Finnis-Sinclair empirical potential and other similar approaches different to, for example, the Lennard-Jones potential. \n",
    "TODO: some more explanation"
   ]
  },
  {
   "cell_type": "markdown",
   "metadata": {},
   "source": [
    "$$\n",
    "\\phi(r) = (r-d)^2 + \\beta (r-d)^3/d\n",
    "$$"
   ]
  },
  {
   "cell_type": "code",
   "execution_count": null,
   "metadata": {},
   "outputs": [],
   "source": [
    "element_pair, d, A, β, c, c₀, c₁, c₂ = df[1,:] # parameters for Vanadium"
   ]
  },
  {
   "cell_type": "code",
   "execution_count": null,
   "metadata": {},
   "outputs": [],
   "source": [
    "r = collect(range(0, stop=2*3.3058, length=1000));\n",
    "ɸ = Molly.glue_potential.(r, β, d);"
   ]
  },
  {
   "cell_type": "code",
   "execution_count": null,
   "metadata": {},
   "outputs": [],
   "source": [
    "ɸs = [ɸ]\n",
    "element_pairs = [element_pair]\n",
    "for i in 2:nrow(df)\n",
    "    element_pair, d, A, β, c, c₀, c₁, c₂ = df[i,:]\n",
    "    ɸ = Molly.glue_potential.(r, β, d)\n",
    "    append!(ɸs,[ɸ])\n",
    "    element_pairs = hcat(element_pairs, string(element_pair))\n",
    "end"
   ]
  },
  {
   "cell_type": "code",
   "execution_count": null,
   "metadata": {},
   "outputs": [],
   "source": [
    "plot(r, ɸs, label=element_pairs)"
   ]
  },
  {
   "cell_type": "markdown",
   "metadata": {},
   "source": [
    "## Computing forces"
   ]
  },
  {
   "cell_type": "markdown",
   "metadata": {},
   "source": [
    "This is what we need for the simulation."
   ]
  },
  {
   "cell_type": "markdown",
   "metadata": {},
   "source": [
    "$\\partial_k = \\partial_{R_k} = $ change of atom position $k$, $r_{ij} = \\|R_{ij}\\|_2$, $R_{ij} = R_j - R_i \\in \\mathbb{R}^3$ \n",
    "\n",
    "$$\n",
    "\\partial_k u = \\partial_k u_\\text{pair} + \\partial_k u_\\text{glue} \n",
    "$$\n",
    "\n",
    "$$\n",
    "\\partial_k u_\\text{pair} = \\sum_{i>j} V_{ij}^\\prime(r_{ij})\\partial_k r_{ij}\n",
    "$$\n",
    "\n",
    "$$\n",
    "\\partial_k u_\\text{glue} = \\sum_i f_i^\\prime(\\rho_i) \\cdot \\partial_k \\rho_i \n",
    "$$\n",
    "\n",
    "$$\n",
    "V_{ij}^\\prime(r_{ij}) = 2(r-c)(c_0 + c_1 r + c_2 r^2) + (r-c)^2(c_1 + 2c_2r)\n",
    "$$\n",
    "\n",
    "$$\n",
    "f_i^\\prime(\\rho_i) \\cdot \\partial_k \\rho_i =\n",
    "\\begin{cases}\n",
    "    k = i, & f_k^\\prime(\\rho_k) \\sum_j\\phi_j^\\prime(r_{kj})\\partial_k r_{kj} \\\\\n",
    "    k \\ne i, & \\sum_{i\\ne k} f_i^\\prime(\\rho_i) \\partial_k \\phi_k^\\prime(r_{ik})\\partial_k r_{ik} \\\\\n",
    "\\end{cases}\n",
    "$$\n",
    "\n",
    "$$\n",
    "f_i^\\prime = \\frac{1}{2}A_i\\rho_i^{-3/2}\n",
    "$$\n",
    "\n",
    "$$\n",
    "\\partial_k\\phi(r) = \\left[2(r-d) + 3\\beta (r-d)^2/d\\right] \\cdot\n",
    "\\begin{cases}\n",
    "    k = i, &\\frac{R_{kj}}{r_{kj}} \\\\ \n",
    "    k = j, &\\frac{R_{ik}}{r_{ik}} \\\\\n",
    "\\end{cases}\n",
    "$$\n",
    "\n",
    "$$\n",
    "\\partial_k r_{ij} =\n",
    "\\begin{cases}\n",
    "    k = i, &\\frac{R_{kj}}{r_{kj}} \\\\ \n",
    "    k = j, &\\frac{R_{ik}}{r_{ik}} \\\\\n",
    "\\end{cases}\n",
    "$$"
   ]
  },
  {
   "cell_type": "code",
   "execution_count": null,
   "metadata": {},
   "outputs": [],
   "source": [
    "element = \"Fe\"\n",
    "a = bcc_lattice_constants[element]\n",
    "atoms, coords, box, box_size, box_vectors = Crystal.make_bcc_unitcell(element, a=a)\n",
    "sc_atoms, sc_coords, sc_box, sc_box_size = Crystal.make_supercell(atoms, coords, box, box_size, nx=3, ny=3,nz=3)\n",
    "n_atoms = length(sc_atoms);"
   ]
  },
  {
   "cell_type": "code",
   "execution_count": null,
   "metadata": {},
   "outputs": [],
   "source": [
    "specific_inter_list = ((fs_inter,),)\n",
    "velocities = [velocity(1., .01, dims=3) for i in 1:n_atoms]\n",
    "sim = VelocityVerlet()\n",
    "nb_matrix = trues(n_atoms,n_atoms)\n",
    "n_steps = 1\n",
    "dist_cutoff = 2 * a\n",
    "\n",
    "nf = DistanceNeighbourFinder(nb_matrix, n_steps, dist_cutoff);\n",
    "\n",
    "loggers = Dict(\"temperature\" => TemperatureLogger(1))"
   ]
  },
  {
   "cell_type": "code",
   "execution_count": null,
   "metadata": {
    "scrolled": true
   },
   "outputs": [],
   "source": [
    "s = Simulation(\n",
    "    simulator=sim, \n",
    "    atoms=sc_atoms, \n",
    "    specific_inter_lists=specific_inter_list,\n",
    "    general_inters=(),\n",
    "    coords=[SVector{3}(v) for v in sc_coords], \n",
    "    velocities=velocities,\n",
    "    temperature=.01, \n",
    "    box_size=sc_box_size[1,1],\n",
    "    timestep=.002,\n",
    "    n_steps=10,\n",
    "    neighbour_finder=nf,\n",
    "    loggers=loggers,\n",
    ")"
   ]
  },
  {
   "cell_type": "code",
   "execution_count": null,
   "metadata": {},
   "outputs": [],
   "source": [
    "sparse_forces = force.((fs_inter,), (s.coords,), (s,))"
   ]
  },
  {
   "cell_type": "markdown",
   "metadata": {},
   "source": [
    "Testing that all forces are about 0"
   ]
  },
  {
   "cell_type": "code",
   "execution_count": null,
   "metadata": {},
   "outputs": [],
   "source": [
    "function test_sparse_forces_zero(sparse_forces, n_atoms; dims=3)\n",
    "    zeros = [zero(rand(1,3)) for _ in 1:n_atoms]\n",
    "    forces = getindex.(sparse_forces,2)[1]\n",
    "    return all(isapprox.(forces, zeros, atol=1e-6))\n",
    "end"
   ]
  },
  {
   "cell_type": "code",
   "execution_count": null,
   "metadata": {},
   "outputs": [],
   "source": [
    "@test test_sparse_forces_zero(sparse_forces, n_atoms)"
   ]
  },
  {
   "cell_type": "markdown",
   "metadata": {},
   "source": [
    "Modifying `Molly.accelerations` so the forces from the glue interaction are properly used to update the atom forces."
   ]
  },
  {
   "cell_type": "code",
   "execution_count": null,
   "metadata": {},
   "outputs": [],
   "source": [
    "function test_forces_zero(forces, n_atoms; dims=3)\n",
    "    zeros = [zero(rand(3)) for _ in 1:n_atoms]\n",
    "    return all(isapprox.(forces, zeros, atol=1e-4))\n",
    "end"
   ]
  },
  {
   "cell_type": "code",
   "execution_count": null,
   "metadata": {},
   "outputs": [],
   "source": [
    "@test test_forces_zero(accelerations(s, parallel=false), n_atoms)"
   ]
  },
  {
   "cell_type": "code",
   "execution_count": null,
   "metadata": {
    "scrolled": true
   },
   "outputs": [],
   "source": [
    "simulate!(s, parallel=false)"
   ]
  },
  {
   "cell_type": "code",
   "execution_count": null,
   "metadata": {},
   "outputs": [],
   "source": [
    "s.loggers[\"temperature\"].temperatures"
   ]
  },
  {
   "cell_type": "markdown",
   "metadata": {},
   "source": [
    "## Testing forces for all elements"
   ]
  },
  {
   "cell_type": "code",
   "execution_count": null,
   "metadata": {},
   "outputs": [],
   "source": [
    "function test_forces_for_element(element::String, fs_inter; nx::Integer=3, ny::Integer=3, nz::Integer=3, )\n",
    "    a = bcc_lattice_constants[element]\n",
    "    atoms, coords, box, box_size, box_vectors = Crystal.make_bcc_unitcell(element, a=a)\n",
    "    sc_atoms, sc_coords, sc_box, sc_box_size = Crystal.make_supercell(atoms, coords, box, box_size, nx=nx, ny=ny, nz=nz)\n",
    "    n_atoms = length(sc_atoms)\n",
    "    \n",
    "    specific_inter_list = ((fs_inter,),)\n",
    "    velocities = [velocity(1., .01, dims=3) for i in 1:n_atoms]\n",
    "    sim = VelocityVerlet()\n",
    "    nb_matrix = trues(n_atoms,n_atoms)\n",
    "    n_steps = 1\n",
    "    dist_cutoff = 2 * a\n",
    "\n",
    "    nf = DistanceNeighbourFinder(nb_matrix, n_steps, dist_cutoff);\n",
    "\n",
    "    loggers = Dict(\"temperature\" => TemperatureLogger(1))\n",
    "    \n",
    "    s = Simulation(\n",
    "        simulator=sim, \n",
    "        atoms=sc_atoms, \n",
    "        specific_inter_lists=specific_inter_list,\n",
    "        general_inters=(),\n",
    "        coords=[SVector{3}(v) for v in sc_coords], \n",
    "        velocities=velocities,\n",
    "        temperature=.01, \n",
    "        box_size=sc_box_size[1,1],\n",
    "        timestep=.002,\n",
    "        n_steps=1,\n",
    "        neighbour_finder=nf,\n",
    "        loggers=loggers,\n",
    "    )\n",
    "    find_neighbours!(s, s.neighbour_finder, 0)\n",
    "    forces = accelerations(s, parallel=false)\n",
    "    return test_forces_zero(forces, n_atoms)\n",
    "end"
   ]
  },
  {
   "cell_type": "code",
   "execution_count": null,
   "metadata": {},
   "outputs": [],
   "source": [
    "for element in elements\n",
    "    @test test_forces_for_element(element, fs_inter)\n",
    "end"
   ]
  },
  {
   "cell_type": "markdown",
   "metadata": {},
   "source": [
    "## Computing energies"
   ]
  },
  {
   "cell_type": "markdown",
   "metadata": {},
   "source": [
    "This is only really interesting for logging / development of potentials."
   ]
  },
  {
   "cell_type": "markdown",
   "metadata": {},
   "source": [
    "### Pair energy"
   ]
  },
  {
   "cell_type": "markdown",
   "metadata": {},
   "source": [
    "$$\n",
    "V_{ij}(r_{ij}) = \n",
    "\\begin{cases} \n",
    "r \\le c, & (r-c)^2 \\left( c_0 + c_1 r + c_2 r^2 \\right) \\\\\n",
    "r > c, & 0 \\\\\n",
    "\\end{cases}\n",
    "$$\n"
   ]
  },
  {
   "cell_type": "code",
   "execution_count": null,
   "metadata": {},
   "outputs": [],
   "source": [
    "element_pair, d, A, β, c, c₀, c₁, c₂ = df[1,:] # parameters for Vanadium"
   ]
  },
  {
   "cell_type": "code",
   "execution_count": null,
   "metadata": {},
   "outputs": [],
   "source": [
    "V = Molly.pair_potential.(r, c, c₀, c₁, c₂);"
   ]
  },
  {
   "cell_type": "code",
   "execution_count": null,
   "metadata": {},
   "outputs": [],
   "source": [
    "Vs = [V]\n",
    "element_pairs = [element_pair]\n",
    "for i in 2:nrow(df)\n",
    "    element_pair, d, A, β, c, c₀, c₁, c₂ = df[i,:]\n",
    "    V = Molly.pair_potential.(r, c, c₀, c₁, c₂)\n",
    "    append!(Vs,[V])\n",
    "    element_pairs = hcat(element_pairs, string(element_pair))\n",
    "end"
   ]
  },
  {
   "cell_type": "code",
   "execution_count": null,
   "metadata": {},
   "outputs": [],
   "source": [
    "plot(r, Vs, label=element_pairs)"
   ]
  },
  {
   "cell_type": "markdown",
   "metadata": {},
   "source": [
    "### Glue energy"
   ]
  },
  {
   "cell_type": "markdown",
   "metadata": {},
   "source": [
    "Computing an energy based on local glue values"
   ]
  },
  {
   "cell_type": "markdown",
   "metadata": {},
   "source": [
    "$$\n",
    "u_\\text{glue} = -A \\cdot \\sqrt{\\rho}\n",
    "$$\n",
    "\n",
    "$$\n",
    "\\rho = \\sum_{j \\in \\text{neighborhood}(i)} \\phi(r_{ij})\n",
    "$$"
   ]
  },
  {
   "cell_type": "code",
   "execution_count": null,
   "metadata": {},
   "outputs": [],
   "source": [
    "ρ = 4. # density that you get summing phi-contributions from neighbours\n",
    "Molly.glue_energy(ρ, 1.)"
   ]
  },
  {
   "cell_type": "code",
   "execution_count": null,
   "metadata": {},
   "outputs": [],
   "source": [
    "ρ = collect(range(0, stop=50, length=100));\n",
    "\n",
    "A = df.A[1] # Va\n",
    "uₙ = Molly.glue_energy.(ρ, A)\n",
    "element_pair = df.element_pair[1]"
   ]
  },
  {
   "cell_type": "code",
   "execution_count": null,
   "metadata": {},
   "outputs": [],
   "source": [
    "uₙs = [uₙ]\n",
    "element_pairs = [element_pair]\n",
    "for i in 2:nrow(df)\n",
    "    element_pair, d, A, β, c, c₀, c₁, c₂ = df[i,:]\n",
    "    uₙ = Molly.glue_energy.(ρ, A)\n",
    "    append!(uₙs,[uₙ])\n",
    "    element_pairs = hcat(element_pairs, string(element_pair))\n",
    "end"
   ]
  },
  {
   "cell_type": "code",
   "execution_count": null,
   "metadata": {},
   "outputs": [],
   "source": [
    "plot(ρ, uₙs, label=element_pairs)"
   ]
  },
  {
   "cell_type": "markdown",
   "metadata": {},
   "source": [
    "### Pair + glue energy = magic"
   ]
  },
  {
   "cell_type": "markdown",
   "metadata": {},
   "source": [
    "$$ u_\\text{tot} = u_N + u_P $$\n",
    "\n",
    "$$ u_P = \\frac{1}{2}\\sum_{i=1,j=1}^{n_\\text{atoms},n_\\text{atoms}} V(r_{ij}) $$\n",
    "\n",
    "$$ u_N = \\sum_{i=1}^{n_\\text{atoms}} u_\\text{glue}(\\rho_i) $$"
   ]
  },
  {
   "cell_type": "code",
   "execution_count": null,
   "metadata": {},
   "outputs": [],
   "source": [
    "u = Molly.potential_energy(fs_inter, s) / n_atoms"
   ]
  },
  {
   "cell_type": "code",
   "execution_count": null,
   "metadata": {},
   "outputs": [],
   "source": [
    "@test isapprox(u, -4.28, atol=1e-2)"
   ]
  },
  {
   "cell_type": "markdown",
   "metadata": {},
   "source": [
    "### Testing potential energies for all elements"
   ]
  },
  {
   "cell_type": "code",
   "execution_count": null,
   "metadata": {},
   "outputs": [],
   "source": [
    "function test_energies_for_element(element::String, fs_inter, u; nx::Integer=3, ny::Integer=3, nz::Integer=3, )\n",
    "    a = bcc_lattice_constants[element]\n",
    "    atoms, coords, box, box_size, box_vectors = Crystal.make_bcc_unitcell(element, a=a)\n",
    "    sc_atoms, sc_coords, sc_box, sc_box_size = Crystal.make_supercell(atoms, coords, box, box_size, nx=nx, ny=ny, nz=nz)\n",
    "    n_atoms = length(sc_atoms)\n",
    "    \n",
    "    specific_inter_list = ((fs_inter,),)\n",
    "    velocities = [velocity(1., .01, dims=3) for i in 1:n_atoms]\n",
    "    sim = VelocityVerlet()\n",
    "    nb_matrix = trues(n_atoms,n_atoms)\n",
    "    n_steps = 1\n",
    "    dist_cutoff = 2 * a\n",
    "\n",
    "    nf = DistanceNeighbourFinder(nb_matrix, n_steps, dist_cutoff);\n",
    "\n",
    "    loggers = Dict(\"temperature\" => TemperatureLogger(1))\n",
    "    \n",
    "    s = Simulation(\n",
    "        simulator=sim, \n",
    "        atoms=sc_atoms, \n",
    "        specific_inter_lists=specific_inter_list,\n",
    "        general_inters=(),\n",
    "        coords=[SVector{3}(v) for v in sc_coords], \n",
    "        velocities=velocities,\n",
    "        temperature=.01, \n",
    "        box_size=sc_box_size[1,1],\n",
    "        timestep=.002,\n",
    "        n_steps=1,\n",
    "        neighbour_finder=nf,\n",
    "        loggers=loggers,\n",
    "    )\n",
    "    find_neighbours!(s, s.neighbour_finder, 0)\n",
    "    u_md = Molly.potential_energy(fs_inter, s)/n_atoms\n",
    "    return isapprox(u_md, u, atol=1e-2)\n",
    "end"
   ]
  },
  {
   "cell_type": "code",
   "execution_count": null,
   "metadata": {},
   "outputs": [],
   "source": [
    "@testset \"potential energies\" begin \n",
    "    for element in elements\n",
    "        element_pair = string(element, element)\n",
    "        row = reference_energies[fs_inter.element_pair_map[element_pair],:]\n",
    "        @testset \"$element\" begin \n",
    "            @test test_energies_for_element(element, fs_inter, -row.u) \n",
    "        end\n",
    "    end\n",
    "end"
   ]
  },
  {
   "cell_type": "markdown",
   "metadata": {},
   "source": [
    "### Running simulation with potential energy logger"
   ]
  },
  {
   "cell_type": "code",
   "execution_count": null,
   "metadata": {},
   "outputs": [],
   "source": [
    "loggers = Dict(\n",
    "    \"temperature\" => TemperatureLogger(1),\n",
    "    \"energy\" => EnergyLogger(1),\n",
    ")"
   ]
  },
  {
   "cell_type": "code",
   "execution_count": null,
   "metadata": {
    "scrolled": true
   },
   "outputs": [],
   "source": [
    "s = Simulation(\n",
    "    simulator=sim, \n",
    "    atoms=sc_atoms, \n",
    "    specific_inter_lists=specific_inter_list,\n",
    "    general_inters=(),\n",
    "    coords=[SVector{3}(v) for v in sc_coords], \n",
    "    velocities=velocities,\n",
    "    temperature=.01, \n",
    "    box_size=sc_box_size[1,1],\n",
    "    timestep=.002,\n",
    "    n_steps=10,\n",
    "    neighbour_finder=nf,\n",
    "    loggers=loggers,\n",
    ")"
   ]
  },
  {
   "cell_type": "code",
   "execution_count": null,
   "metadata": {},
   "outputs": [],
   "source": [
    "simulate!(s, parallel=false)"
   ]
  },
  {
   "cell_type": "code",
   "execution_count": null,
   "metadata": {},
   "outputs": [],
   "source": [
    "s.loggers[\"energy\"].energies"
   ]
  },
  {
   "cell_type": "code",
   "execution_count": null,
   "metadata": {},
   "outputs": [],
   "source": []
  }
 ],
 "metadata": {
  "kernelspec": {
   "display_name": "Julia 1.5.3",
   "language": "julia",
   "name": "julia-1.5"
  },
  "language_info": {
   "file_extension": ".jl",
   "mimetype": "application/julia",
   "name": "julia",
   "version": "1.5.3"
  },
  "toc": {
   "base_numbering": 1,
   "nav_menu": {
    "height": "167px",
    "width": "309px"
   },
   "number_sections": true,
   "sideBar": true,
   "skip_h1_title": false,
   "title_cell": "Table of Contents",
   "title_sidebar": "Contents",
   "toc_cell": false,
   "toc_position": {},
   "toc_section_display": true,
   "toc_window_display": false
  }
 },
 "nbformat": 4,
 "nbformat_minor": 4
}
