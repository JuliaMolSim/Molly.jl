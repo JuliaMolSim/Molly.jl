{
 "cells": [
  {
   "cell_type": "markdown",
   "metadata": {},
   "source": [
    "# The Finnis-Sinclair potential"
   ]
  },
  {
   "cell_type": "markdown",
   "metadata": {},
   "source": [
    "Reading:\n",
    "- Finnis and Sinclair 1984, [A simple empirical N-body potential for transition metals](https://doi.org/10.1080/01418618408244210)\n",
    "- Daw and Baskes 1984, [Embedded-atom method: Derivation and application to impurities, surfaces, and other defects in metals](https://journals.aps.org/prb/abstract/10.1103/PhysRevB.29.6443)"
   ]
  },
  {
   "cell_type": "markdown",
   "metadata": {},
   "source": [
    "Content:\n",
    "1. the math of a glue potential in general & what's special in the Finnis-Sinclair version\n",
    "2. show components of the model (pair energy, glue density, glue energy)\n",
    "3. show how to run a simulation"
   ]
  },
  {
   "cell_type": "markdown",
   "metadata": {},
   "source": [
    "TODOs:\n",
    "* generate animation of vibrating lattice"
   ]
  },
  {
   "cell_type": "code",
   "execution_count": null,
   "metadata": {},
   "outputs": [],
   "source": [
    "import Pkg\n",
    "\n",
    "Pkg.activate(\".\")\n",
    "\n",
    "# Pkg.add(url=\"https://github.com/eschmidt42/crystal\")\n",
    "\n",
    "using Molly\n",
    "using DataFrames\n",
    "using Plots\n",
    "using Test\n",
    "using Crystal"
   ]
  },
  {
   "cell_type": "markdown",
   "metadata": {},
   "source": [
    "## The math 💖"
   ]
  },
  {
   "cell_type": "markdown",
   "metadata": {},
   "source": [
    "The potential energy is composed out of a pair and a \"glue\" contribution\n",
    "$$\n",
    "U = U_{\\text{pair}} + U_{\\text{glue}}\n",
    "$$"
   ]
  },
  {
   "cell_type": "markdown",
   "metadata": {},
   "source": [
    "The pair contribution\n",
    "$$\n",
    "U_{\\text{pair}} = \\sum_{i,j>i}V_{ij}(r_{ij})\n",
    "$$"
   ]
  },
  {
   "cell_type": "markdown",
   "metadata": {},
   "source": [
    "where $r_{ij} = \\left\\| \\vec{R}_j - \\vec{R}_i|  \\right\\|_2$."
   ]
  },
  {
   "cell_type": "markdown",
   "metadata": {},
   "source": [
    "The energy contribution of the glue is taken for each atom\n",
    "$$\n",
    "U_{\\text{glue}} = \\sum_i f(\\rho_i)\n",
    "$$\n",
    "\n",
    "where $\\rho_i = \\sum_j \\phi(r_{ij})$ is the glue at atom $i$."
   ]
  },
  {
   "cell_type": "markdown",
   "metadata": {},
   "source": [
    "Combining both\n",
    "$$\n",
    "\\begin{split}\n",
    "U &= U_{\\text{pair}} + U_{\\text{glue}} \\\\\n",
    "  &= \\sum_{i,j>i}V_{ij}(r_{ij}) + \\sum_i f(\\rho_i) \\\\\n",
    "\\end{split}\n",
    "$$"
   ]
  },
  {
   "cell_type": "markdown",
   "metadata": {},
   "source": [
    "To compute the force on atom i with this potential we apply\n",
    "$$\n",
    "\\vec{F}_i = - \\partial_i U\n",
    "$$\n",
    "\n",
    "where $\\partial_i$ is the wiggling of $\\vec{R}_i$."
   ]
  },
  {
   "cell_type": "markdown",
   "metadata": {},
   "source": [
    "Applying the chain rule we obtain\n",
    "$$\n",
    "\\begin{split}\n",
    "\\vec{F}_i &= - \\sum_j V^\\prime_{ij}(r_{ij}) \\left( -\\frac{\\vec{R}_{ij}}{r_{ij}} \\right) + f^\\prime_i(\\rho_i) \\sum_j \\phi_{j}^\\prime(r_{ij}) \\left( -\\frac{\\vec{R}_{ij}}{r_{ij}} \\right) + \\sum_j f^\\prime_j(\\rho_j) \\phi_i(r_{ji}) \\left( \\frac{\\vec{R}_{ji}}{r_{ji}} \\right) \\\\\n",
    "    &= \\sum_j \\left[ V^\\prime_{ij}(r_{ij}) + f^\\prime_i(\\rho_i)  \\phi_{j}^\\prime(r_{ij}) + f^\\prime_j(\\rho_j) \\phi_i(r_{ji}) \\right] \\frac{\\vec{R}_{ij}}{r_{ij}}\n",
    "\\end{split}\n",
    "$$\n",
    "\n",
    "The interesting part is the second equation, because this we can directly use to implement the force updates, looping the neighbouring pairs in parallel ($j$ is a neighbouring atom of atom $i$). "
   ]
  },
  {
   "cell_type": "markdown",
   "metadata": {},
   "source": [
    "## The model"
   ]
  },
  {
   "cell_type": "markdown",
   "metadata": {},
   "source": [
    "Let's look into $f$, $\\phi$ and $V$. "
   ]
  },
  {
   "cell_type": "markdown",
   "metadata": {},
   "source": [
    "### Parameterisations"
   ]
  },
  {
   "cell_type": "markdown",
   "metadata": {},
   "source": [
    "Parameterisation by Finnis et al. 1984, _A simple empirical N-body potential for transition metals_"
   ]
  },
  {
   "cell_type": "markdown",
   "metadata": {},
   "source": [
    "| element | d | A | $\\beta$ | c | $c_0$ | $c_1$ | $c_2$ | \n",
    "| --- | --- | --- | --- | --- | --- | --- | --- |\n",
    "| V  | 3.692767 | 2.010637 | 0   | 3.8  | -0.8816318 | 1.4907756   | -0.3976370 |\n",
    "| Nb | 3.915354 | 3.013789 | 0   | 4.2  | -1.5640104 | 2.0055779   | -0.4663764 |\n",
    "| Ta | 4.076980 | 2.591061 | 0   | 4.2  | 1.2157373  | 0.0271471   | -0.1217350 |\n",
    "| Cr | 3.915720 | 1.453418 | 1.8 | 2.9  | 29.1429813 | -23.3975027 | 4.7578297 |\n",
    "| Mo | 4.114825 | 1.887117 | 0   | 3.25 | 43.4475218 | -31.9332978 | 6.0804249 |\n",
    "| W  | 4.400224 | 1.896373 | 0   | 3.25 | 47.1346499 | -33.7665655 | 6.2541999 |\n",
    "| Fe | 3.699579 | 1.889846 | 1.8 | 3.4  | 1.2110601  | -0.7510840  | 0.1380773 |"
   ]
  },
  {
   "cell_type": "markdown",
   "metadata": {},
   "source": [
    "Note that this potential assumes *metal* units, e.g. eV, K and so on: https://lammps.sandia.gov/doc/units.html"
   ]
  },
  {
   "cell_type": "markdown",
   "metadata": {},
   "source": [
    "Collecting the parameters"
   ]
  },
  {
   "cell_type": "code",
   "execution_count": null,
   "metadata": {},
   "outputs": [],
   "source": [
    "kb = Molly.kb \n",
    "fs84, elements, masses, bcc_lattice_constants, reference_energies = Molly.get_finnissinclair1984(true)"
   ]
  },
  {
   "cell_type": "markdown",
   "metadata": {},
   "source": [
    "### Glue contribution - $\\phi(r)$"
   ]
  },
  {
   "cell_type": "markdown",
   "metadata": {},
   "source": [
    "To compute the glue density $\\rho$ for an atom, we need to compute the contributions from its neighbours (self-contribution is ignored). The neighbour contributions are obtained using $\\phi(r)$:\n",
    "\n",
    "$$\n",
    "\\phi(r) = (r-d)^2 + \\beta (r-d)^3/d\n",
    "$$\n",
    "\n",
    "$d$ and $\\beta$ are model parameters."
   ]
  },
  {
   "cell_type": "code",
   "execution_count": null,
   "metadata": {},
   "outputs": [],
   "source": [
    "element_pair, d, A, β, c, c₀, c₁, c₂ = fs84.params[1,:] # parameters for Vanadium"
   ]
  },
  {
   "cell_type": "code",
   "execution_count": null,
   "metadata": {},
   "outputs": [],
   "source": [
    "r = collect(range(0, stop=6, length=1000));\n",
    "ɸ = Molly.glue.(r, β, d);"
   ]
  },
  {
   "cell_type": "code",
   "execution_count": null,
   "metadata": {},
   "outputs": [],
   "source": [
    "ɸs = [ɸ]\n",
    "element_pairs = [element_pair]\n",
    "for i in 2:nrow(fs84.params)\n",
    "    element_pair, d, A, β, c, c₀, c₁, c₂ = fs84.params[i,:]\n",
    "    ɸ = Molly.glue.(r, β, d)\n",
    "    append!(ɸs,[ɸ])\n",
    "    element_pairs = hcat(element_pairs, string(element_pair))\n",
    "end"
   ]
  },
  {
   "cell_type": "code",
   "execution_count": null,
   "metadata": {},
   "outputs": [],
   "source": [
    "?plot"
   ]
  },
  {
   "cell_type": "code",
   "execution_count": null,
   "metadata": {},
   "outputs": [],
   "source": [
    "plot(r, ɸs, label=element_pairs, xlabel=\"r\", ylabel=\"phi(r)\", title=\"Glue contributions\")"
   ]
  },
  {
   "cell_type": "markdown",
   "metadata": {},
   "source": [
    "Interestingly we find that some $\\phi$ do indeed take on negative values. This is interesting because of the choice for $f$ by Finnis and Sinclair."
   ]
  },
  {
   "cell_type": "markdown",
   "metadata": {},
   "source": [
    "### Glue energy - $f(\\rho)$"
   ]
  },
  {
   "cell_type": "markdown",
   "metadata": {},
   "source": [
    "Computing an energy based on local glue values"
   ]
  },
  {
   "cell_type": "markdown",
   "metadata": {},
   "source": [
    "$$\n",
    "u_\\text{glue} = -A \\cdot \\sqrt{\\rho}\n",
    "$$\n",
    "\n",
    "$$\n",
    "\\rho = \\sum_{j \\in \\text{neighborhood}(i)} \\phi(r_{ij})\n",
    "$$"
   ]
  },
  {
   "cell_type": "markdown",
   "metadata": {},
   "source": [
    "From a physical point of view it makes sense to expect $\\rho > 0$, but in some situations we still might obtain  $\\rho < 0$, and have a problem, unless we allow for complex energy values.\n",
    "\n",
    "Let's plot $u_{\\text{glue}}$ for $\\rho \\in \\mathbb{R}^+$."
   ]
  },
  {
   "cell_type": "code",
   "execution_count": null,
   "metadata": {},
   "outputs": [],
   "source": [
    "ρ = collect(range(0, stop=50, length=100))\n",
    "A = fs84.params.A[1] # Va\n",
    "uₙ = Molly.Uglue.(ρ, A)\n",
    "element_pair = fs84.params.element_pair[1];\n",
    "\n",
    "uₙs = [uₙ]\n",
    "element_pairs = [element_pair]\n",
    "for i in 2:nrow(fs84.params)\n",
    "    element_pair, d, A, β, c, c₀, c₁, c₂ = fs84.params[i,:]\n",
    "    uₙ = Molly.Uglue.(ρ, A)\n",
    "    append!(uₙs,[uₙ])\n",
    "    element_pairs = hcat(element_pairs, string(element_pair))\n",
    "end"
   ]
  },
  {
   "cell_type": "code",
   "execution_count": null,
   "metadata": {},
   "outputs": [],
   "source": [
    "plot(ρ, uₙs, label=element_pairs, xlabel=\"Glue density\", ylabel=\"Glue energy\", title=\"Glue energy varying with glue density\")"
   ]
  },
  {
   "cell_type": "markdown",
   "metadata": {},
   "source": [
    "### Pair energy - $V(r)$"
   ]
  },
  {
   "cell_type": "markdown",
   "metadata": {},
   "source": [
    "The pair energy is defined as\n",
    "$$\n",
    "V_{ij}(r_{ij}) = \n",
    "\\begin{cases} \n",
    "r \\le c, & (r-c)^2 \\left( c_0 + c_1 r + c_2 r^2 \\right) \\\\\n",
    "r > c, & 0 \\\\\n",
    "\\end{cases}\n",
    "$$\n"
   ]
  },
  {
   "cell_type": "markdown",
   "metadata": {},
   "source": [
    "Let's have a look"
   ]
  },
  {
   "cell_type": "code",
   "execution_count": null,
   "metadata": {},
   "outputs": [],
   "source": [
    "element_pair, d, A, β, c, c₀, c₁, c₂ = fs84.params[1,:] # parameters for Vanadium\n",
    "\n",
    "V = Molly.Upair.(r, c, c₀, c₁, c₂)\n",
    "\n",
    "Vs = [V]\n",
    "element_pairs = [element_pair]\n",
    "for i in 2:nrow(fs84.params)\n",
    "    element_pair, d, A, β, c, c₀, c₁, c₂ = fs84.params[i,:]\n",
    "    V = Molly.Upair.(r, c, c₀, c₁, c₂)\n",
    "    append!(Vs,[V])\n",
    "    element_pairs = hcat(element_pairs, string(element_pair))\n",
    "end\n",
    "\n",
    "plot(r, Vs, label=element_pairs, xlabel=\"r\", ylabel=\"Pair energy contribution\", title=\"Pair energy vs separation\")"
   ]
  },
  {
   "cell_type": "markdown",
   "metadata": {},
   "source": [
    "## Simulating"
   ]
  },
  {
   "cell_type": "markdown",
   "metadata": {},
   "source": [
    "Now that we have looked at the individual components of the model, let's simulate Tungsten near room temperature for a $3\\times3\\times3$ supercell of a body centered cubic crystal."
   ]
  },
  {
   "cell_type": "markdown",
   "metadata": {},
   "source": [
    "Creating the crystal"
   ]
  },
  {
   "cell_type": "code",
   "execution_count": null,
   "metadata": {},
   "outputs": [],
   "source": [
    "nx = 3\n",
    "ny = 3\n",
    "nz = 3\n",
    "element = \"W\"\n",
    "\n",
    "a = bcc_lattice_constants[element]\n",
    "atoms, coords, box, box_size, box_vectors = Crystal.make_bcc_unitcell(element, a=a)\n",
    "sc_atoms, sc_coords, sc_box, sc_box_size = Crystal.make_supercell(atoms, coords, box, box_size, nx=nx, ny=ny, nz=nz)\n",
    "n_atoms = length(sc_atoms)"
   ]
  },
  {
   "cell_type": "markdown",
   "metadata": {},
   "source": [
    "Setting simulation specs"
   ]
  },
  {
   "cell_type": "code",
   "execution_count": null,
   "metadata": {},
   "outputs": [],
   "source": [
    "T = 300. # Kelvin\n",
    "T *= kb\n",
    "n_steps = 5000\n",
    "dt = .002 # ps; ns = 1e-9, ps = 1e-12, fs = 1e-15\n",
    "\n",
    "general_inters = (fs84,)\n",
    "velocities = [velocity(sc_atoms[i].mass, T, dims=3) for i in 1:n_atoms]\n",
    "nb_matrix = trues(n_atoms,n_atoms)\n",
    "dist_cutoff = 2 * a\n",
    "nf = DistanceNeighbourFinder(nb_matrix, 1, dist_cutoff)\n",
    "# thermostat = NoThermostat()\n",
    "thermostat = AndersenThermostat(1.)\n",
    "\n",
    "loggers = Dict(\n",
    "    \"temperature\" => TemperatureLogger(1),\n",
    "    \"pot\" => EnergyLogger(1),\n",
    "    \"coords\" => CoordinateLogger(100),\n",
    "    \"velos\" => VelocityLogger(1),\n",
    "    \"forces\" => ForceLogger(100),\n",
    "    \"glue\" => GlueDensityLogger(1),\n",
    "#     \"writer\" => StructureWriter(5,\"traj_fs_bcc_vac_fe.pdb\")\n",
    ")\n",
    "\n",
    "s = Simulation(\n",
    "    simulator=VelocityVerlet(), \n",
    "    atoms=sc_atoms, \n",
    "    general_inters=general_inters,\n",
    "    coords=[SVector{3}(v) for v in sc_coords], \n",
    "    velocities=velocities,\n",
    "    temperature=T, \n",
    "    box_size=sc_box_size[1,1],\n",
    "    timestep=dt,\n",
    "    n_steps=n_steps,\n",
    "    neighbour_finder=nf,\n",
    "    loggers=loggers,\n",
    ")"
   ]
  },
  {
   "cell_type": "markdown",
   "metadata": {},
   "source": [
    "Running the simulation (this should take about 30s)"
   ]
  },
  {
   "cell_type": "code",
   "execution_count": null,
   "metadata": {},
   "outputs": [],
   "source": [
    "simulate!(s)"
   ]
  },
  {
   "cell_type": "markdown",
   "metadata": {},
   "source": [
    "Visualizing content of the loggers"
   ]
  },
  {
   "cell_type": "code",
   "execution_count": null,
   "metadata": {},
   "outputs": [],
   "source": [
    "x = collect(1:length(s.loggers[\"glue\"].glue_densities))\n",
    "y = [[arr[i] for arr in s.loggers[\"glue\"].glue_densities] for i in 1:n_atoms]\n",
    "plot(x, y, title=\"glue densities\", legend=false)"
   ]
  },
  {
   "cell_type": "code",
   "execution_count": null,
   "metadata": {},
   "outputs": [],
   "source": [
    "x = collect(1:length(s.loggers[\"temperature\"].temperatures))\n",
    "y = s.loggers[\"temperature\"].temperatures/kb\n",
    "plot(x,y,title=\"Temperature\",legend=false)"
   ]
  },
  {
   "cell_type": "code",
   "execution_count": null,
   "metadata": {},
   "outputs": [],
   "source": [
    "x = collect(1:length(s.loggers[\"pot\"].energies))\n",
    "y = s.loggers[\"pot\"].energies / length(s.coords)\n",
    "plot(x,y,title=\"Potential energy per atom\",legend=false)"
   ]
  },
  {
   "cell_type": "code",
   "execution_count": null,
   "metadata": {},
   "outputs": [],
   "source": []
  }
 ],
 "metadata": {
  "kernelspec": {
   "display_name": "Julia 1.5.3",
   "language": "julia",
   "name": "julia-1.5"
  },
  "language_info": {
   "file_extension": ".jl",
   "mimetype": "application/julia",
   "name": "julia",
   "version": "1.5.3"
  },
  "toc": {
   "base_numbering": 1,
   "nav_menu": {
    "height": "167px",
    "width": "309px"
   },
   "number_sections": true,
   "sideBar": true,
   "skip_h1_title": false,
   "title_cell": "Table of Contents",
   "title_sidebar": "Contents",
   "toc_cell": false,
   "toc_position": {},
   "toc_section_display": true,
   "toc_window_display": false
  }
 },
 "nbformat": 4,
 "nbformat_minor": 4
}
